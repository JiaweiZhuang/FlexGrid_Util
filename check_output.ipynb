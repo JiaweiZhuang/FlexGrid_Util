{
 "metadata": {
  "name": "",
  "signature": "sha256:a284d7e9aeb961cb52ab5ad87af3899b41f548bf32ba4293678eba8a5dceb5ab"
 },
 "nbformat": 3,
 "nbformat_minor": 0,
 "worksheets": [
  {
   "cells": [
    {
     "cell_type": "code",
     "collapsed": false,
     "input": [
      "import numpy as np\n",
      "import xbpch as xb"
     ],
     "language": "python",
     "metadata": {},
     "outputs": [],
     "prompt_number": 1
    },
    {
     "cell_type": "code",
     "collapsed": false,
     "input": [
      "rundir = '../geosfp_4x5_standard/'\n",
      "datadir = rundir+'OutputDir/'\n",
      "timestr = '20130630'\n",
      "#timestr = '20130701'\n",
      "\n",
      "ds1 = xb.open_bpchdataset(datadir+'std_ts'+timestr+'.bpch',\n",
      "                          tracerinfo_file=rundir+'tracerinfo.dat',\n",
      "                          diaginfo_file=rundir+'diaginfo.dat')\n",
      "\n",
      "ds2 = xb.open_bpchdataset(datadir+'flexgrid_ts'+timestr+'.bpch',\n",
      "                          tracerinfo_file=rundir+'tracerinfo.dat',\n",
      "                          diaginfo_file=rundir+'diaginfo.dat')"
     ],
     "language": "python",
     "metadata": {},
     "outputs": [],
     "prompt_number": 2
    },
    {
     "cell_type": "code",
     "collapsed": false,
     "input": [
      "ds2.data_vars"
     ],
     "language": "python",
     "metadata": {},
     "outputs": [
      {
       "metadata": {},
       "output_type": "pyout",
       "prompt_number": 3,
       "text": [
        "Data variables:\n",
        "    IJ_AVG_S_NO    (time, lon, lat, lev) float32 1.02921e-11 1.25509e-12 ...\n",
        "    time_bnds      (time, nv) datetime64[ns] 2013-06-30T01:00:00 ...\n",
        "    IJ_AVG_S_O3    (time, lon, lat, lev) float32 26.1727 26.321 26.5283 ...\n",
        "    IJ_AVG_S_CO    (time, lon, lat, lev) float32 67.449 67.3807 67.2649 ...\n",
        "    DAO_3D_S_UWND  (time, lon, lat, lev) float32 -0.330349 -1.83962 -1.8318 ...\n",
        "    DAO_3D_S_TMPU  (time, lon, lat, lev) float32 223.42 238.887 241.629 ..."
       ]
      }
     ],
     "prompt_number": 3
    },
    {
     "cell_type": "code",
     "collapsed": false,
     "input": [
      "def surf_mean(dr):\n",
      "    # dr: data array\n",
      "    return dr.isel(lev=0).mean(dim=[\"lon\",\"lat\"]).values\n",
      "\n",
      "def rdiff(a,b):\n",
      "    return (a-b)/b"
     ],
     "language": "python",
     "metadata": {},
     "outputs": [],
     "prompt_number": 4
    },
    {
     "cell_type": "code",
     "collapsed": false,
     "input": [
      "rdiff(surf_mean(ds1[\"DAO_3D_S_UWND\"]),\n",
      "      surf_mean(ds2[\"DAO_3D_S_UWND\"])).max()"
     ],
     "language": "python",
     "metadata": {},
     "outputs": [
      {
       "metadata": {},
       "output_type": "pyout",
       "prompt_number": 5,
       "text": [
        "0.0"
       ]
      }
     ],
     "prompt_number": 5
    },
    {
     "cell_type": "code",
     "collapsed": false,
     "input": [
      "rdiff(surf_mean(ds1[\"DAO_3D_S_TMPU\"]),\n",
      "      surf_mean(ds2[\"DAO_3D_S_TMPU\"])).max()"
     ],
     "language": "python",
     "metadata": {},
     "outputs": [
      {
       "metadata": {},
       "output_type": "pyout",
       "prompt_number": 6,
       "text": [
        "0.0"
       ]
      }
     ],
     "prompt_number": 6
    },
    {
     "cell_type": "code",
     "collapsed": false,
     "input": [
      "rdiff(surf_mean(ds1[\"IJ_AVG_S_NO\"]),\n",
      "      surf_mean(ds2[\"IJ_AVG_S_NO\"])).max()"
     ],
     "language": "python",
     "metadata": {},
     "outputs": [
      {
       "metadata": {},
       "output_type": "pyout",
       "prompt_number": 7,
       "text": [
        "0.00038678249"
       ]
      }
     ],
     "prompt_number": 7
    },
    {
     "cell_type": "code",
     "collapsed": false,
     "input": [
      "rdiff(surf_mean(ds1[\"IJ_AVG_S_O3\"]),\n",
      "      surf_mean(ds2[\"IJ_AVG_S_O3\"])).max()"
     ],
     "language": "python",
     "metadata": {},
     "outputs": [
      {
       "metadata": {},
       "output_type": "pyout",
       "prompt_number": 8,
       "text": [
        "0.00010210677"
       ]
      }
     ],
     "prompt_number": 8
    },
    {
     "cell_type": "code",
     "collapsed": false,
     "input": [],
     "language": "python",
     "metadata": {},
     "outputs": [],
     "prompt_number": 8
    }
   ],
   "metadata": {}
  }
 ]
}